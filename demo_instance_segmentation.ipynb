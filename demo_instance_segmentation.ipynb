{
 "cells": [
  {
   "cell_type": "code",
   "execution_count": null,
   "id": "576723a0",
   "metadata": {},
   "outputs": [],
   "source": [
    "#Download the mask_rcnn model through this link\n",
    "https://github.com/matterport/Mask_RCNN/releases/tag/v2.0"
   ]
  },
  {
   "cell_type": "markdown",
   "id": "c40fc12b",
   "metadata": {},
   "source": [
    "# LIBRARIES IMPORTATION"
   ]
  },
  {
   "cell_type": "code",
   "execution_count": null,
   "id": "070c7743",
   "metadata": {},
   "outputs": [],
   "source": [
    "import pixellib\n",
    "from pixellib.instance import instance_segmentation\n",
    "import cv2"
   ]
  },
  {
   "cell_type": "markdown",
   "id": "eee76c2c",
   "metadata": {},
   "source": [
    "# MODEL SETUP"
   ]
  },
  {
   "cell_type": "code",
   "execution_count": null,
   "id": "ed227e88",
   "metadata": {},
   "outputs": [],
   "source": [
    "segmentation_model = instance_segmentation()\n",
    "segmentation_model.load_model('mask_rcnn_coco.h5')"
   ]
  },
  {
   "cell_type": "markdown",
   "id": "918df34d",
   "metadata": {},
   "source": [
    "# INSTANCE SEGMENTATION ON IMAGE"
   ]
  },
  {
   "cell_type": "code",
   "execution_count": null,
   "id": "7737a512",
   "metadata": {},
   "outputs": [],
   "source": [
    "#Load the image\n",
    "img = cv2.imread(\"image_1.jpg\")\n",
    "\n",
    "#import the model\n",
    "inst = segmentation_model.segmentFrame(img, show_bboxes=True)\n",
    "inst_image = inst[1]\n",
    "\n",
    "#display the result\n",
    "cv2.imshow(\"image segmentation\", inst_image)\n",
    "\n",
    "#save the result and close the windows\n",
    "cv2.imwrite(\"image_segmentation.jpg\",inst_image)\n",
    "cv2.waitKey(0)\n",
    "cv2.destroyAllWindows()"
   ]
  },
  {
   "cell_type": "markdown",
   "id": "85287e71",
   "metadata": {},
   "source": [
    "# INSTANCE SEGMENTATION ON WEBCAM"
   ]
  },
  {
   "cell_type": "code",
   "execution_count": null,
   "id": "36c5a574",
   "metadata": {},
   "outputs": [],
   "source": [
    "#capture the video from the webcam\n",
    "cap = cv2.VideoCapture(0)\n",
    "\n",
    "#initiate a while loop for frames reading\n",
    "while cap.isOpened():\n",
    "    ret, frame = cap.read()\n",
    "    \n",
    "    #Apply the instance segmentation\n",
    "    result = segmentation_model.segmentFrame(frame, show_bboxes=True)\n",
    "    \n",
    "    images = result[1]\n",
    "    \n",
    "    #display the result on real-time\n",
    "    cv2.imshow('Instance Segmentation', images)\n",
    "    \n",
    "    if cv2.waitKey(10) & 0xFF == ord('q'):\n",
    "        break\n",
    "\n",
    "#stop the real-time         \n",
    "cap.release()\n",
    "cv2.destroyAllWindows()"
   ]
  },
  {
   "cell_type": "markdown",
   "id": "2c41c645",
   "metadata": {},
   "source": [
    "# INSTANCE SEGMENTATION ON VIDEO"
   ]
  },
  {
   "cell_type": "code",
   "execution_count": null,
   "id": "5ca4ecb6",
   "metadata": {},
   "outputs": [],
   "source": [
    "#capture the video from the loaded video\n",
    "cap = cv2.VideoCapture(\"video_test.mp4\")\n",
    "\n",
    "#get frame width and height from the loaded video\n",
    "frame_width = int(cap.get(3))\n",
    "frame_height = int(cap.get(4))\n",
    "\n",
    "#initialize element to save the result in .avi file\n",
    "out = cv2.VideoWriter('outpy.avi',cv2.VideoWriter_fourcc('M','J','P','G'), 10, (frame_width,frame_height))\n",
    "\n",
    "#initiate a while loop for frames reading\n",
    "while cap.isOpened():\n",
    "    ret, frame = cap.read()\n",
    "    if frame is None:\n",
    "        break\n",
    "    \n",
    "    #Apply the instance segmentation\n",
    "    result = segmentation_model.segmentFrame(frame, show_bboxes=True)\n",
    "    \n",
    "    images = result[1]\n",
    "    \n",
    "    #display the result on real-time\n",
    "    cv2.imshow('Instance Segmentation', images)\n",
    "    \n",
    "    #save the segmentation \n",
    "    out.write(images)\n",
    "\n",
    "    \n",
    "    if cv2.waitKey(10) & 0xFF == ord('q'):\n",
    "        break\n",
    "        \n",
    "cap.release()\n",
    "cv2.destroyAllWindows()"
   ]
  },
  {
   "cell_type": "code",
   "execution_count": null,
   "id": "dcca4243",
   "metadata": {},
   "outputs": [],
   "source": []
  }
 ],
 "metadata": {
  "kernelspec": {
   "display_name": "Python 3",
   "language": "python",
   "name": "python3"
  },
  "language_info": {
   "codemirror_mode": {
    "name": "ipython",
    "version": 3
   },
   "file_extension": ".py",
   "mimetype": "text/x-python",
   "name": "python",
   "nbconvert_exporter": "python",
   "pygments_lexer": "ipython3",
   "version": "3.7.10"
  }
 },
 "nbformat": 4,
 "nbformat_minor": 5
}
